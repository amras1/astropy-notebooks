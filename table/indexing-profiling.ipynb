{
 "metadata": {
  "name": ""
 },
 "nbformat": 3,
 "nbformat_minor": 0,
 "worksheets": [
  {
   "cells": [
    {
     "cell_type": "heading",
     "level": 2,
     "metadata": {},
     "source": [
      "Setting up tests for profiling"
     ]
    },
    {
     "cell_type": "code",
     "collapsed": false,
     "input": [
      "from random import randint\n",
      "from astropy.table import Table, BST, FastRBT, SortedArray\n",
      "from astropy.time import Time\n",
      "from time import time\n",
      "from matplotlib import pyplot as plt\n",
      "\n",
      "N = 100000\n",
      "\n",
      "class IndexProfiling:\n",
      "    def __init__(self, engine):\n",
      "        # initialize N rows with random (mostly unique) elements\n",
      "        self.t = Table([[randint(0, N * 10) for i in range(N)]])\n",
      "        self.engine = engine\n",
      "\n",
      "    def time_init(self):\n",
      "        if self.engine is not None:\n",
      "            self.t.add_index('col0', engine=self.engine)\n",
      "\n",
      "    def time_group(self):\n",
      "        self.t.group_by('col0')\n",
      "\n",
      "    def time_loc(self):\n",
      "        if self.engine is not None:\n",
      "            self.t.loc[N / 2]\n",
      "        else: # linear search\n",
      "            for val in self.t['col0']:\n",
      "                if val == N / 2:\n",
      "                    break\n",
      "\n",
      "    def time_loc_range(self):\n",
      "        # from N/4 to 3N/4, inclusive\n",
      "        if self.engine is not None:\n",
      "            self.t.loc[N / 4 : 3 * N / 4]\n",
      "        else:\n",
      "            range_vals = []\n",
      "            for val in self.t['col0']:\n",
      "                if N / 4 <= val <= 3 * N / 4:\n",
      "                    range_vals.append(val)\n",
      "\n",
      "    def time_add_row(self):\n",
      "        self.t.add_row((randint(0, N * 10),))\n",
      "\n",
      "    def time_modify(self):\n",
      "        self.t['col0'][0] = randint(0, N * 10)\n",
      "\n",
      "def get_time(func):\n",
      "    start = time()\n",
      "    func()\n",
      "    return time() - start"
     ],
     "language": "python",
     "metadata": {},
     "outputs": [],
     "prompt_number": 1
    },
    {
     "cell_type": "heading",
     "level": 2,
     "metadata": {},
     "source": [
      "Run tests for FastRBT, SortedArray, and a non-indexed Table"
     ]
    },
    {
     "cell_type": "code",
     "collapsed": false,
     "input": [
      "implementations = ['None', 'FastRBT', 'SortedArray']\n",
      "methods = ['init', 'group', 'loc', 'loc_range', 'add_row', 'modify']\n",
      "times = {}\n",
      "\n",
      "for i, impl in enumerate(implementations):\n",
      "    profile = IndexProfiling(eval(impl))\n",
      "    for j, method in enumerate(methods):\n",
      "        func = getattr(profile, 'time_{0}'.format(method))\n",
      "        running_time = get_time(func)\n",
      "        times[(impl, method)] = running_time"
     ],
     "language": "python",
     "metadata": {},
     "outputs": [],
     "prompt_number": 2
    },
    {
     "cell_type": "code",
     "collapsed": false,
     "input": [
      "for method in methods:\n",
      "    print(method + '\\n**********')\n",
      "    for impl in implementations:\n",
      "        t = times[(impl, method)]\n",
      "        msg = '{0}: {1}'.format(impl, t)\n",
      "        if impl is not None and method != 'init':\n",
      "            msg += ' ({0:.4}%)'.format(t / times[('None', method)] * 100)\n",
      "        print(msg)"
     ],
     "language": "python",
     "metadata": {},
     "outputs": [
      {
       "output_type": "stream",
       "stream": "stdout",
       "text": [
        "init\n",
        "**********\n",
        "None: 9.53674316406e-07\n",
        "FastRBT: 1.62410998344\n",
        "SortedArray: 0.0099790096283\n",
        "group\n",
        "**********\n",
        "None: 0.0487058162689 (100.0%)\n",
        "FastRBT: 0.0303020477295 (62.21%)\n",
        "SortedArray: 0.00359106063843 (7.373%)\n",
        "loc\n",
        "**********\n",
        "None: 0.0229358673096 (100.0%)\n",
        "FastRBT: 1.10098481178 (4.8e+03%)\n",
        "SortedArray: 0.0159430503845 (69.51%)\n",
        "loc_range\n",
        "**********\n",
        "None: 0.0359489917755 (100.0%)\n",
        "FastRBT: 1.31203913689 (3.65e+03%)\n",
        "SortedArray: 0.007807970047 (21.72%)\n",
        "add_row\n",
        "**********\n",
        "None: 0.00047779083252 (100.0%)\n",
        "FastRBT: 0.000534057617188 (111.8%)\n",
        "SortedArray: 0.00141501426697 (296.2%)\n",
        "modify\n",
        "**********\n",
        "None: 1.50203704834e-05 (100.0%)\n",
        "FastRBT: 6.79492950439e-05 (452.4%)\n",
        "SortedArray: 0.00164794921875 (1.097e+04%)\n"
       ]
      }
     ],
     "prompt_number": 3
    },
    {
     "cell_type": "heading",
     "level": 2,
     "metadata": {},
     "source": [
      "Test mixin performance"
     ]
    },
    {
     "cell_type": "code",
     "collapsed": false,
     "input": [
      "t1 = Table([[randint(0, N * 2) * 1000. / N for i in range(N)]])\n",
      "t2 = Table([Time(t1['col0'], format='mjd')])\n",
      "print('Index setup\\n**********')\n",
      "print('Regular columns: {0}'.format(get_time(lambda: t1.add_index('col0'))))\n",
      "print('Time columns:    {0}'.format(get_time(lambda: t2.add_index('col0'))))\n",
      "\n",
      "val = t1['col0'][N / 2]\n",
      "tval = Time(val, format='jd')\n",
      "avg = sum(t1['col0']) / N\n",
      "low = avg * .25\n",
      "high = avg * .75\n",
      "tlow = Time(low, format='jd')\n",
      "thigh = Time(high, format='jd')\n",
      "\n",
      "print('\\nValue search\\n************')\n",
      "print('Regular column: {0}'.format(get_time(lambda: t1.loc[val])))\n",
      "print('Time column:    {0}'.format(get_time(lambda: t2.loc[tval])))\n",
      "print('\\nRange search\\n************')\n",
      "print('Regular column: {0}'.format(get_time(lambda: t1.loc[low:high])))\n",
      "print('Time column:    {0}'.format(get_time(lambda: t2.loc[tlow:thigh])))"
     ],
     "language": "python",
     "metadata": {},
     "outputs": [
      {
       "output_type": "stream",
       "stream": "stdout",
       "text": [
        "Index setup\n",
        "**********\n",
        "Regular columns: 0.012748003006\n",
        "Time columns:    0.0747668743134"
       ]
      },
      {
       "output_type": "stream",
       "stream": "stdout",
       "text": [
        "\n",
        "\n",
        "Value search\n",
        "************\n",
        "Regular column: 0.0104279518127\n",
        "Time column:    0.0269150733948"
       ]
      },
      {
       "output_type": "stream",
       "stream": "stdout",
       "text": [
        "\n",
        "\n",
        "Range search\n",
        "************\n",
        "Regular column: 0.0330481529236\n",
        "Time column:    0.0362100601196"
       ]
      },
      {
       "output_type": "stream",
       "stream": "stdout",
       "text": [
        "\n"
       ]
      }
     ],
     "prompt_number": 5
    }
   ],
   "metadata": {}
  }
 ]
}