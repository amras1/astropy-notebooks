{
 "metadata": {
  "name": ""
 },
 "nbformat": 3,
 "nbformat_minor": 0,
 "worksheets": [
  {
   "cells": [
    {
     "cell_type": "heading",
     "level": 2,
     "metadata": {},
     "source": [
      "Setting up tests for profiling"
     ]
    },
    {
     "cell_type": "code",
     "collapsed": false,
     "input": [
      "from random import randint\n",
      "from astropy.table import Table, BST, FastRBT, SortedArray\n",
      "from astropy.table.sorted_array import _searchsorted\n",
      "from astropy.time import Time\n",
      "from time import time\n",
      "\n",
      "N = 100000\n",
      "\n",
      "class IndexProfiling:\n",
      "    def __init__(self, engine):\n",
      "        # initialize N rows with random (mostly unique) elements\n",
      "        self.t = Table([[randint(0, N * 10) for i in range(N)]])\n",
      "        self.engine = engine\n",
      "        self.val = self.t['col0'][N / 2]\n",
      "\n",
      "    def time_init(self):\n",
      "        if self.engine is not None:\n",
      "            self.t.add_index('col0', engine=self.engine)\n",
      "\n",
      "    def time_group(self):\n",
      "        self.t.group_by('col0')\n",
      "\n",
      "    def time_loc(self):\n",
      "        if self.engine is not None:\n",
      "            self.t.loc[self.val]\n",
      "        else: # linear search\n",
      "            for val in self.t['col0']:\n",
      "                if val == self.val:\n",
      "                    break\n",
      "\n",
      "    def time_loc_range(self):\n",
      "        # from N/4 to 3N/4, inclusive\n",
      "        if self.engine is not None:\n",
      "            self.t.loc[N / 4 : 3 * N / 4]\n",
      "        else:\n",
      "            range_vals = []\n",
      "            for val in self.t['col0']:\n",
      "                if N / 4 <= val <= 3 * N / 4:\n",
      "                    range_vals.append(val)\n",
      "\n",
      "    def time_add_row(self):\n",
      "        self.t.add_row((randint(0, N * 10),))\n",
      "\n",
      "    def time_modify(self):\n",
      "        self.t['col0'][0] = randint(0, N * 10)\n",
      "\n",
      "def get_time(func):\n",
      "    start = time()\n",
      "    func()\n",
      "    return time() - start"
     ],
     "language": "python",
     "metadata": {},
     "outputs": [],
     "prompt_number": 1
    },
    {
     "cell_type": "heading",
     "level": 2,
     "metadata": {},
     "source": [
      "Run tests for FastRBT, SortedArray, and a non-indexed Table"
     ]
    },
    {
     "cell_type": "code",
     "collapsed": false,
     "input": [
      "implementations = ['None', 'FastRBT', 'SortedArray']\n",
      "methods = ['init', 'group', 'loc', 'loc_range', 'add_row', 'modify']\n",
      "times = {}\n",
      "\n",
      "for i, impl in enumerate(implementations):\n",
      "    profile = IndexProfiling(eval(impl))\n",
      "    for j, method in enumerate(methods):\n",
      "        func = getattr(profile, 'time_{0}'.format(method))\n",
      "        running_time = get_time(func)\n",
      "        times[(impl, method)] = running_time"
     ],
     "language": "python",
     "metadata": {},
     "outputs": [],
     "prompt_number": 2
    },
    {
     "cell_type": "code",
     "collapsed": false,
     "input": [
      "for method in methods:\n",
      "    print('\\n' + method + '\\n**********')\n",
      "    for impl in implementations:\n",
      "        t = times[(impl, method)]\n",
      "        msg = '{0}: {1}'.format(impl, t)\n",
      "        if impl is not None and method != 'init':\n",
      "            msg += ' ({0:.4}%)'.format(t / times[('None', method)] * 100)\n",
      "        print(msg)"
     ],
     "language": "python",
     "metadata": {},
     "outputs": [
      {
       "output_type": "stream",
       "stream": "stdout",
       "text": [
        "\n",
        "init\n",
        "**********\n",
        "None: 9.53674316406e-07\n",
        "FastRBT: 1.49923014641\n",
        "SortedArray: 0.00718903541565\n",
        "\n",
        "group\n",
        "**********\n",
        "None: 0.107917070389 (100.0%)\n",
        "FastRBT: 0.0273411273956 (25.34%)\n",
        "SortedArray: 0.00421380996704 (3.905%)\n",
        "\n",
        "loc\n",
        "**********\n",
        "None: 0.00871706008911 (100.0%)\n",
        "FastRBT: 0.000645160675049 (7.401%)\n",
        "SortedArray: 0.000671863555908 (7.707%)\n",
        "\n",
        "loc_range\n",
        "**********\n",
        "None: 0.0335540771484 (100.0%)\n",
        "FastRBT: 0.114087104797 (340.0%)\n",
        "SortedArray: 0.000880002975464 (2.623%)\n",
        "\n",
        "add_row\n",
        "**********\n",
        "None: 0.000396966934204 (100.0%)\n",
        "FastRBT: 0.000395059585571 (99.52%)\n",
        "SortedArray: 0.00144195556641 (363.2%)\n",
        "\n",
        "modify\n",
        "**********\n",
        "None: 1.21593475342e-05 (100.0%)\n",
        "FastRBT: 6.00814819336e-05 (494.1%)\n",
        "SortedArray: 0.00123977661133 (1.02e+04%)\n"
       ]
      }
     ],
     "prompt_number": 3
    },
    {
     "cell_type": "heading",
     "level": 2,
     "metadata": {},
     "source": [
      "Test mixin performance"
     ]
    },
    {
     "cell_type": "code",
     "collapsed": false,
     "input": [
      "t1 = Table([[randint(0, N * 2) * 1000. / N for i in range(N)]])\n",
      "t2 = Table([Time(t1['col0'], format='mjd')])\n",
      "print('Index setup\\n**********')\n",
      "print('Regular columns: {0}'.format(get_time(lambda: t1.add_index('col0'))))\n",
      "print('Time columns:    {0}'.format(get_time(lambda: t2.add_index('col0'))))\n",
      "\n",
      "val = t1['col0'][N / 2]\n",
      "tval = t2['col0'][N / 2]\n",
      "low = t1.iloc[N / 4]['col0']\n",
      "high = t1.iloc[3 * N / 4]['col0']\n",
      "tlow = t2.iloc[N / 4]['col0']\n",
      "thigh = t2.iloc[3 * N / 4]['col0']\n",
      "\n",
      "print('\\nValue search\\n************')\n",
      "print('Regular column: {0}'.format(get_time(lambda: t1.loc[val])))\n",
      "print('Time column:    {0}'.format(get_time(lambda: t2.loc[tval])))\n",
      "print('\\nRange search\\n************')\n",
      "print('Regular column: {0}'.format(get_time(lambda: t1.loc[low:high])))\n",
      "print('Time column:    {0}'.format(get_time(lambda: t2.loc[tlow:thigh])))\n",
      "\n",
      "print('\\nsearchsorted\\n***********')\n",
      "print('Regular column: {0}'.format(\n",
      "        get_time(lambda: np.searchsorted(t1['col0'], val))))\n",
      "print('Time column:    {0}'.format(\n",
      "        get_time(lambda: _searchsorted(t2['col0'], tval))))"
     ],
     "language": "python",
     "metadata": {},
     "outputs": [
      {
       "output_type": "stream",
       "stream": "stderr",
       "text": [
        "WARNING: ErfaWarning: ERFA function \"utctai\" yielded 100000 of \"dubious year (Note 3)\" [astropy._erfa.core]\n",
        "WARNING:astropy:ErfaWarning: ERFA function \"utctai\" yielded 100000 of \"dubious year (Note 3)\"\n"
       ]
      },
      {
       "output_type": "stream",
       "stream": "stdout",
       "text": [
        "Index setup\n",
        "**********\n",
        "Regular columns: 0.00843501091003\n",
        "Time columns:    0.100733041763"
       ]
      },
      {
       "output_type": "stream",
       "stream": "stderr",
       "text": [
        "WARNING: ErfaWarning: ERFA function \"utctai\" yielded 1 of \"dubious year (Note 3)\" [astropy._erfa.core]\n",
        "WARNING:astropy:ErfaWarning: ERFA function \"utctai\" yielded 1 of \"dubious year (Note 3)\"\n"
       ]
      },
      {
       "output_type": "stream",
       "stream": "stderr",
       "text": [
        "WARNING: ErfaWarning: ERFA function \"utctai\" yielded 50001 of \"dubious year (Note 3)\" [astropy._erfa.core]\n",
        "WARNING:astropy:ErfaWarning: ERFA function \"utctai\" yielded 50001 of \"dubious year (Note 3)\"\n"
       ]
      },
      {
       "output_type": "stream",
       "stream": "stdout",
       "text": [
        "\n",
        "\n",
        "Value search\n",
        "************\n",
        "Regular column: 0.000684976577759\n",
        "Time column:    0.0184650421143\n",
        "\n",
        "Range search\n",
        "************\n",
        "Regular column: 0.00196290016174\n",
        "Time column:    0.0631210803986"
       ]
      },
      {
       "output_type": "stream",
       "stream": "stdout",
       "text": [
        "\n",
        "\n",
        "searchsorted\n",
        "***********\n",
        "Regular column: 1.50203704834e-05\n",
        "Time column:    0.0823469161987"
       ]
      },
      {
       "output_type": "stream",
       "stream": "stdout",
       "text": [
        "\n"
       ]
      }
     ],
     "prompt_number": 4
    }
   ],
   "metadata": {}
  }
 ]
}