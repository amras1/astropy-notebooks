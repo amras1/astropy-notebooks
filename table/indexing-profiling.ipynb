{
 "metadata": {
  "name": ""
 },
 "nbformat": 3,
 "nbformat_minor": 0,
 "worksheets": [
  {
   "cells": [
    {
     "cell_type": "heading",
     "level": 2,
     "metadata": {},
     "source": [
      "Setting up tests for profiling"
     ]
    },
    {
     "cell_type": "code",
     "collapsed": false,
     "input": [
      "from random import randint\n",
      "from astropy.table import Table, BST, FastRBT, SortedArray\n",
      "from astropy.table.sorted_array import _searchsorted\n",
      "from astropy.time import Time\n",
      "from time import time\n",
      "\n",
      "N = 100000\n",
      "\n",
      "class IndexProfiling:\n",
      "    def __init__(self, engine):\n",
      "        # initialize N rows with random (mostly unique) elements\n",
      "        self.t = Table([[randint(0, N * 10) for i in range(N)]])\n",
      "        self.engine = engine\n",
      "\n",
      "    def time_init(self):\n",
      "        if self.engine is not None:\n",
      "            self.t.add_index('col0', engine=self.engine)\n",
      "\n",
      "    def time_group(self):\n",
      "        self.t.group_by('col0')\n",
      "\n",
      "    def time_loc(self):\n",
      "        if self.engine is not None:\n",
      "            self.t.loc[N / 2]\n",
      "        else: # linear search\n",
      "            for val in self.t['col0']:\n",
      "                if val == N / 2:\n",
      "                    break\n",
      "\n",
      "    def time_loc_range(self):\n",
      "        # from N/4 to 3N/4, inclusive\n",
      "        if self.engine is not None:\n",
      "            self.t.loc[N / 4 : 3 * N / 4]\n",
      "        else:\n",
      "            range_vals = []\n",
      "            for val in self.t['col0']:\n",
      "                if N / 4 <= val <= 3 * N / 4:\n",
      "                    range_vals.append(val)\n",
      "\n",
      "    def time_add_row(self):\n",
      "        self.t.add_row((randint(0, N * 10),))\n",
      "\n",
      "    def time_modify(self):\n",
      "        self.t['col0'][0] = randint(0, N * 10)\n",
      "\n",
      "def get_time(func):\n",
      "    start = time()\n",
      "    func()\n",
      "    return time() - start"
     ],
     "language": "python",
     "metadata": {},
     "outputs": [],
     "prompt_number": 1
    },
    {
     "cell_type": "heading",
     "level": 2,
     "metadata": {},
     "source": [
      "Run tests for FastRBT, SortedArray, and a non-indexed Table"
     ]
    },
    {
     "cell_type": "code",
     "collapsed": false,
     "input": [
      "implementations = ['None', 'FastRBT', 'SortedArray']\n",
      "methods = ['init', 'group', 'loc', 'loc_range', 'add_row', 'modify']\n",
      "times = {}\n",
      "\n",
      "for i, impl in enumerate(implementations):\n",
      "    profile = IndexProfiling(eval(impl))\n",
      "    for j, method in enumerate(methods):\n",
      "        func = getattr(profile, 'time_{0}'.format(method))\n",
      "        running_time = get_time(func)\n",
      "        times[(impl, method)] = running_time"
     ],
     "language": "python",
     "metadata": {},
     "outputs": [],
     "prompt_number": 2
    },
    {
     "cell_type": "code",
     "collapsed": false,
     "input": [
      "for method in methods:\n",
      "    print(method + '\\n**********')\n",
      "    for impl in implementations:\n",
      "        t = times[(impl, method)]\n",
      "        msg = '{0}: {1}'.format(impl, t)\n",
      "        if impl is not None and method != 'init':\n",
      "            msg += ' ({0:.4}%)'.format(t / times[('None', method)] * 100)\n",
      "        print(msg)"
     ],
     "language": "python",
     "metadata": {},
     "outputs": [
      {
       "output_type": "stream",
       "stream": "stdout",
       "text": [
        "init\n",
        "**********\n",
        "None: 9.53674316406e-07\n",
        "FastRBT: 3.31287002563\n",
        "SortedArray: 0.023964881897\n",
        "group\n",
        "**********\n",
        "None: 0.101176023483 (100.0%)\n",
        "FastRBT: 0.0600049495697 (59.31%)\n",
        "SortedArray: 0.00735998153687 (7.274%)\n",
        "loc\n",
        "**********\n",
        "None: 0.0459649562836 (100.0%)\n",
        "FastRBT: 2.26288414001 (4.923e+03%)\n",
        "SortedArray: 0.0362861156464 (78.94%)\n",
        "loc_range\n",
        "**********\n",
        "None: 0.0730919837952 (100.0%)\n",
        "FastRBT: 2.55415892601 (3.494e+03%)\n",
        "SortedArray: 0.013298034668 (18.19%)\n",
        "add_row\n",
        "**********\n",
        "None: 0.000762939453125 (100.0%)\n",
        "FastRBT: 0.00142002105713 (186.1%)\n",
        "SortedArray: 0.00257205963135 (337.1%)\n",
        "modify\n",
        "**********\n",
        "None: 2.50339508057e-05 (100.0%)\n",
        "FastRBT: 0.000130176544189 (520.0%)\n",
        "SortedArray: 0.00382399559021 (1.528e+04%)\n"
       ]
      }
     ],
     "prompt_number": 3
    },
    {
     "cell_type": "heading",
     "level": 2,
     "metadata": {},
     "source": [
      "Test mixin performance"
     ]
    },
    {
     "cell_type": "code",
     "collapsed": false,
     "input": [
      "t1 = Table([[randint(0, N * 2) * 1000. / N for i in range(N)]])\n",
      "t2 = Table([Time(t1['col0'], format='mjd')])\n",
      "print('Index setup\\n**********')\n",
      "print('Regular columns: {0}'.format(get_time(lambda: t1.add_index('col0'))))\n",
      "print('Time columns:    {0}'.format(get_time(lambda: t2.add_index('col0'))))\n",
      "\n",
      "val = t1['col0'][N / 2]\n",
      "tval = Time(val, format='jd')\n",
      "avg = sum(t1['col0']) / N\n",
      "low = avg * .25\n",
      "high = avg * .75\n",
      "tlow = Time(low, format='jd')\n",
      "thigh = Time(high, format='jd')\n",
      "\n",
      "print('\\nValue search\\n************')\n",
      "print('Regular column: {0}'.format(get_time(lambda: t1.loc[val])))\n",
      "print('Time column:    {0}'.format(get_time(lambda: t2.loc[tval])))\n",
      "print('\\nRange search\\n************')\n",
      "print('Regular column: {0}'.format(get_time(lambda: t1.loc[low:high])))\n",
      "print('Time column:    {0}'.format(get_time(lambda: t2.loc[tlow:thigh])))\n",
      "\n",
      "print('\\nsearchsorted\\n***********')\n",
      "print('Regular column: {0}'.format(\n",
      "        get_time(lambda: np.searchsorted(t1['col0'], val))))\n",
      "print('Time column:    {0}'.format(\n",
      "        get_time(lambda: _searchsorted(t2['col0'], tval))))"
     ],
     "language": "python",
     "metadata": {},
     "outputs": [
      {
       "output_type": "stream",
       "stream": "stdout",
       "text": [
        "Index setup\n",
        "**********\n",
        "Regular columns: 0.0232231616974\n",
        "Time columns:    0.155894994736"
       ]
      },
      {
       "output_type": "stream",
       "stream": "stdout",
       "text": [
        "\n",
        "\n",
        "Value search\n",
        "************\n",
        "Regular column: 0.0194928646088"
       ]
      },
      {
       "output_type": "stream",
       "stream": "stdout",
       "text": [
        "\n",
        "Time column:    0.0561079978943"
       ]
      },
      {
       "output_type": "stream",
       "stream": "stdout",
       "text": [
        "\n",
        "\n",
        "Range search\n",
        "************\n",
        "Regular column: 0.0650341510773"
       ]
      },
      {
       "output_type": "stream",
       "stream": "stdout",
       "text": [
        "\n",
        "Time column:    0.0731379985809"
       ]
      },
      {
       "output_type": "stream",
       "stream": "stdout",
       "text": [
        "\n",
        "\n",
        "searchsorted\n",
        "***********\n",
        "Regular column: 2.19345092773e-05\n",
        "Time column:    0.200974941254"
       ]
      },
      {
       "output_type": "stream",
       "stream": "stdout",
       "text": [
        "\n"
       ]
      }
     ],
     "prompt_number": 7
    }
   ],
   "metadata": {}
  }
 ]
}